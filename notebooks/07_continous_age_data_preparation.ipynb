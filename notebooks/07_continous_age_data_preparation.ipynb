{
 "cells": [
  {
   "cell_type": "code",
   "execution_count": 1,
   "id": "cc667f34-49ef-4c0b-b5e4-2cf6a27bb735",
   "metadata": {},
   "outputs": [
    {
     "name": "stdout",
     "output_type": "stream",
     "text": [
      "Loaded data:\n",
      "  NHS England regions Code NHS England regions  Age (101 categories) Code  \\\n",
      "0                E40000003              London                          0   \n",
      "1                E40000003              London                          1   \n",
      "2                E40000003              London                          2   \n",
      "\n",
      "  Age (101 categories)  Observation  \n",
      "0    Aged under 1 year       104232  \n",
      "1          Aged 1 year       107140  \n",
      "2         Aged 2 years       105690  \n"
     ]
    }
   ],
   "source": [
    "import pandas as pd\n",
    "import re\n",
    "\n",
    "# --- 1. Set file path ---\n",
    "file_path = \"/Users/rosstaylor/Downloads/Research Project/Code Folder/nhs-diagnostics-dids-eda/nhs-dids-explorer/data/raw/TS007-2021-3-filtered-2025-07-03T07-56-29Z.csv\"\n",
    "\n",
    "# --- 2. Load file ---\n",
    "df = pd.read_csv(file_path)\n",
    "print(\"Loaded data:\")\n",
    "print(df.head(3))"
   ]
  },
  {
   "cell_type": "code",
   "execution_count": 5,
   "id": "e850acea-8be7-44f6-8703-3eb8abc3747e",
   "metadata": {},
   "outputs": [
    {
     "name": "stdout",
     "output_type": "stream",
     "text": [
      "\n",
      "Filtered to South West: 101 rows\n",
      "    NHS England regions Code NHS England regions  Age (101 categories) Code  \\\n",
      "202                E40000006          South West                          0   \n",
      "203                E40000006          South West                          1   \n",
      "204                E40000006          South West                          2   \n",
      "\n",
      "    Age (101 categories)  Observation  \n",
      "202    Aged under 1 year        51086  \n",
      "203          Aged 1 year        53388  \n",
      "204         Aged 2 years        55491  \n"
     ]
    }
   ],
   "source": [
    "# --- 3. Filter for South West region ---\n",
    "df_sw = df[df[\"NHS England regions\"] == \"South West\"].copy()\n",
    "print(f\"\\nFiltered to South West: {len(df_sw)} rows\")\n",
    "print(df_sw.head(3))"
   ]
  },
  {
   "cell_type": "code",
   "execution_count": 7,
   "id": "dfd57fe0-132b-40c5-9f28-256396f6e329",
   "metadata": {},
   "outputs": [],
   "source": [
    "# --- 4. Convert age labels to integers ---\n",
    "def extract_age(age_str):\n",
    "    if \"under 1\" in age_str:\n",
    "        return 0\n",
    "    elif \"90 years and over\" in age_str:\n",
    "        return 90\n",
    "    else:\n",
    "        match = re.search(r\"(\\d+)\", age_str)\n",
    "        return int(match.group(1)) if match else None\n",
    "\n",
    "df_sw[\"age\"] = df_sw[\"Age (101 categories)\"].apply(extract_age)"
   ]
  },
  {
   "cell_type": "code",
   "execution_count": 9,
   "id": "9ec749ef-b585-4680-93fa-82b3d28cab39",
   "metadata": {},
   "outputs": [
    {
     "name": "stdout",
     "output_type": "stream",
     "text": [
      "\n",
      "Age conversion check:\n",
      "    Age (101 categories)  age\n",
      "202    Aged under 1 year    0\n",
      "203          Aged 1 year    1\n",
      "204         Aged 2 years    2\n",
      "205         Aged 3 years    3\n",
      "206         Aged 4 years    4\n",
      "207         Aged 5 years    5\n",
      "208         Aged 6 years    6\n",
      "209         Aged 7 years    7\n",
      "210         Aged 8 years    8\n",
      "211         Aged 9 years    9\n"
     ]
    }
   ],
   "source": [
    "# --- 5. Quick check on age conversion ---\n",
    "print(\"\\nAge conversion check:\")\n",
    "print(df_sw[[\"Age (101 categories)\", \"age\"]].drop_duplicates().head(10))\n"
   ]
  },
  {
   "cell_type": "code",
   "execution_count": 13,
   "id": "d157aa82-d49f-4ea3-8a85-8055072252c2",
   "metadata": {},
   "outputs": [
    {
     "name": "stdout",
     "output_type": "stream",
     "text": [
      "\n",
      "Final long-format table shape: (101, 2)\n",
      "   age  population\n",
      "0    0       51086\n",
      "1    1       53388\n",
      "2    2       55491\n",
      "3    3       56712\n",
      "4    4       58224\n",
      "5    5       60677\n",
      "6    6       60233\n",
      "7    7       61218\n",
      "8    8       64003\n",
      "9    9       65397\n"
     ]
    }
   ],
   "source": [
    "# --- 6. Group by age (long format) ---\n",
    "df_out = df_sw.groupby(\"age\")[\"Observation\"].sum().reset_index()\n",
    "df_out.columns = [\"age\", \"population\"]\n",
    "\n",
    "# --- 7. Final shape check ---\n",
    "print(f\"\\nFinal long-format table shape: {df_out.shape}\")\n",
    "print(df_out.head(10))\n"
   ]
  },
  {
   "cell_type": "code",
   "execution_count": 17,
   "id": "f2d6a2cb-e3b5-4a92-9ef8-e34acc7ea3bd",
   "metadata": {},
   "outputs": [
    {
     "name": "stdout",
     "output_type": "stream",
     "text": [
      "Exported: south_west_population_2021.csv\n",
      "Exported: south_west_population_2024.csv\n"
     ]
    }
   ],
   "source": [
    "import os\n",
    "\n",
    "# --- 8. Apply 0.7% annual growth from 2021 to 2024 ---\n",
    "annual_growth_rate = 0.007\n",
    "years = 2024 - 2021\n",
    "growth_factor = (1 + annual_growth_rate) ** years\n",
    "\n",
    "df_out[\"population_2024\"] = (df_out[\"population\"] * growth_factor).round().astype(int)\n",
    "\n",
    "# Define export path\n",
    "export_path = \"/Users/rosstaylor/Downloads/Research Project/Code Folder/nhs-diagnostics-dids-eda/nhs-dids-explorer/data/processed\"\n",
    "\n",
    "# Ensure the directory exists\n",
    "os.makedirs(export_path, exist_ok=True)\n",
    "\n",
    "# --- 9. Export original 2021 data ---\n",
    "df_2021 = df_out[[\"age\", \"population\"]].copy()\n",
    "df_2021.to_csv(os.path.join(export_path, \"south_west_population_2021.csv\"), index=False)\n",
    "print(\"Exported: south_west_population_2021.csv\")\n",
    "\n",
    "# --- 10. Export projected 2024 data ---\n",
    "df_2024 = df_out[[\"age\", \"population_2024\"]].rename(columns={\"population_2024\": \"population\"})\n",
    "df_2024.to_csv(os.path.join(export_path, \"south_west_population_2024.csv\"), index=False)\n",
    "print(\"Exported: south_west_population_2024.csv\")\n"
   ]
  }
 ],
 "metadata": {
  "kernelspec": {
   "display_name": "Python (dids-eda)",
   "language": "python",
   "name": "dids-eda"
  },
  "language_info": {
   "codemirror_mode": {
    "name": "ipython",
    "version": 3
   },
   "file_extension": ".py",
   "mimetype": "text/x-python",
   "name": "python",
   "nbconvert_exporter": "python",
   "pygments_lexer": "ipython3",
   "version": "3.10.18"
  }
 },
 "nbformat": 4,
 "nbformat_minor": 5
}
