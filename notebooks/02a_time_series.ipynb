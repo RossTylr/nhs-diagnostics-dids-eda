{
 "cells": [
  {
   "cell_type": "markdown",
   "metadata": {},
   "source": [
    "# In-Depth Time Series Analysis: NHS South West Region\n",
    "\n",
    "**Objective:** This notebook provides a comprehensive analysis of monthly time series data for the NHS South West region and its seven constituent Integrated Care Boards (ICBs) from 2015 to 2024. \n",
    "\n",
    "**Methodology:** The analysis draws directly from the methodologies outlined in the source report, *\"An In-Depth Analysis of Seasonality: Methodologies and Application to Multi-Category Time Series Data (2015-2024)\"*. We will explore seasonality, trends, and structural breaks using a combination of exploratory data analysis, classical decomposition, and regression modeling.\n",
    "\n",
    "**Structure:**\n",
    "1.  **Setup and Data Preparation**: Loading, consolidating, and cleaning the data.\n",
    "2.  **Regional Level Analysis (NHS SW Total)**: A deep dive into the aggregate regional data.\n",
    "3.  **ICB Specific Comparative Analysis**: An automated, comparative deep dive into each of the seven ICBs.\n",
    "4.  **Synthesis and Conclusions**: Summarizing the key findings and outlining next steps."
   ]
  },
  {
   "cell_type": "markdown",
   "metadata": {},
   "source": [
    "## Part 1: Setup and Data Preparation"
   ]
  },
  {
   "cell_type": "markdown",
   "metadata": {},
   "source": [
    "### 1.1: Import Libraries"
   ]
  },
  {
   "cell_type": "code",
   "execution_count": 2,
   "metadata": {},
   "outputs": [],
   "source": [
    "import pandas as pd\n",
    "import numpy as np\n",
    "import matplotlib.pyplot as plt\n",
    "import seaborn as sns\n",
    "import statsmodels.api as sm\n",
    "from statsmodels.tsa.stattools import adfuller\n",
    "import glob\n",
    "import warnings\n",
    "\n",
    "sns.set_style(\"whitegrid\")\n",
    "plt.rcParams['figure.figsize'] = (14, 7)\n",
    "warnings.filterwarnings('ignore')"
   ]
  },
  {
   "cell_type": "markdown",
   "metadata": {},
   "source": [
    "### 1.2: Load and Consolidate Data"
   ]
  },
  {
   "cell_type": "code",
   "execution_count": 3,
   "metadata": {},
   "outputs": [
    {
     "name": "stdout",
     "output_type": "stream",
     "text": [
      "Error: No monthly CSV files found. Please ensure the data files are in the correct directory.\n"
     ]
    }
   ],
   "source": [
    "csv_files = sorted(glob.glob('*_monthly.csv'))\n",
    "\n",
    "if not csv_files:\n",
    "    print(\"Error: No monthly CSV files found. Please ensure the data files are in the correct directory.\")\n",
    "else:\n",
    "    df_list = [pd.read_csv(file) for file in csv_files]\n",
    "    combined_df = pd.concat(df_list, ignore_index=True)\n",
    "    print(f\"Successfully loaded and combined {len(csv_files)} files.\")\n",
    "    display(combined_df.head())"
   ]
  },
  {
   "cell_type": "markdown",
   "metadata": {},
   "source": [
    "### 1.3: Data Cleaning and Preparation"
   ]
  },
  {
   "cell_type": "code",
   "execution_count": null,
   "metadata": {},
   "outputs": [],
   "source": [
    "combined_df['Date'] = pd.to_datetime(combined_df['Date'], format='%Y-%m')\n",
    "combined_df.set_index('Date', inplace=True)\n",
    "\n",
    "icb_columns = [col for col in combined_df.columns if col not in ['Date']]\n",
    "print(f\"Identified ICB columns: {icb_columns}\")\n",
    "\n",
    "combined_df['Aggregate'] = combined_df[icb_columns].sum(axis=1)\n",
    "\n",
    "print(\"\\nData prepared. Final DataFrame info:\")\n",
    "combined_df.info()\n",
    "print(\"\\nLast 5 rows:\")\n",
    "display(combined_df.tail())"
   ]
  },
  {
   "cell_type": "markdown",
   "metadata": {},
   "source": [
    "## Part 2: Regional Level Analysis (NHS SW Total)"
   ]
  },
  {
   "cell_type": "markdown",
   "metadata": {},
   "source": [
    "This section focuses exclusively on the `Aggregate` series, which represents the total for the NHS South West region. This provides a macro-level view of the overall system dynamics."
   ]
  },
  {
   "cell_type": "markdown",
   "metadata": {},
   "source": [
    "### 2.1: Exploratory Data Analysis (EDA)"
   ]
  },
  {
   "cell_type": "code",
   "execution_count": null,
   "metadata": {},
   "outputs": [],
   "source": [
    "print(\"Descriptive Statistics for the Aggregate Regional Series:\")\n",
    "display(combined_df['Aggregate'].describe())"
   ]
  },
  {
   "cell_type": "markdown",
   "metadata": {},
   "source": [
    "#### Single Longitudinal Plot"
   ]
  },
  {
   "cell_type": "code",
   "execution_count": null,
   "metadata": {},
   "outputs": [],
   "source": [
    "combined_df['Aggregate'].plot()\n",
    "plt.title('NHS SW Region: Total Monthly Values (2015-2024)', fontsize=16)\n",
    "plt.ylabel('Value')\n",
    "plt.xlabel('Year')\n",
    "plt.grid(True, which='both', linestyle='--', linewidth=0.5)\n",
    "plt.axvspan('2020-03', '2021-12', color='red', alpha=0.15, label='COVID-19 Pandemic Period')\n",
    "plt.legend()\n",
    "plt.show()"
   ]
  },
  {
   "cell_type": "markdown",
   "metadata": {},
   "source": [
    "**Interpretation:** The longitudinal plot clearly shows three key features mentioned in the source report:\n",
    "1.  **Positive Trend:** A general upward movement over the decade.\n",
    "2.  **Strong Seasonality:** A clear, repeating annual pattern of peaks and troughs.\n",
    "3.  **Structural Break:** A dramatic, sharp decline around 2020, coinciding with the onset of the global pandemic."
   ]
  },
  {
   "cell_type": "markdown",
   "metadata": {},
   "source": [
    "#### Year-on-Year Comparison"
   ]
  },
  {
   "cell_type": "code",
   "execution_count": null,
   "metadata": {},
   "outputs": [],
   "source": [
    "df_yoy = combined_df.copy()\n",
    "df_yoy['year'] = df_yoy.index.year\n",
    "df_yoy['month'] = df_yoy.index.month\n",
    "\n",
    "yoy_pivot = df_yoy.pivot_table(values='Aggregate', index='month', columns='year')\n",
    "\n",
    "yoy_pivot.plot()\n",
    "plt.title('NHS SW Region: Year-on-Year Monthly Comparison', fontsize=16)\n",
    "plt.ylabel('Value')\n",
    "plt.xlabel('Month')\n",
    "plt.xticks(ticks=range(1, 13), labels=['Jan', 'Feb', 'Mar', 'Apr', 'May', 'Jun', 'Jul', 'Aug', 'Sep', 'Oct', 'Nov', 'Dec'])\n",
    "plt.legend(title='Year', bbox_to_anchor=(1.05, 1), loc='upper left')\n",
    "plt.grid(True, which='both', linestyle='--', linewidth=0.5)\n",
    "plt.show()"
   ]
  },
  {
   "cell_type": "markdown",
   "metadata": {},
   "source": [
    "**Interpretation:** This plot allows us to compare the seasonal pattern across years. The shape of the seasonality (trough in early year, peak late in the year) is largely consistent. The 2020 line (in orange) clearly shows the dramatic dip relative to other years. We can also see the magnitude of the seasonal swings increasing over time, which supports the choice of a multiplicative model."
   ]
  },
  {
   "cell_type": "markdown",
   "metadata": {},
   "source": [
    "#### Specialized Seasonality Plots"
   ]
  },
  {
   "cell_type": "code",
   "execution_count": null,
   "metadata": {},
   "outputs": [],
   "source": [
    "fig, axes = plt.subplots(1, 2, figsize=(18, 6))\n",
    "\n",
    "sm.tsa.seasonal_plot(combined_df['Aggregate'], ax=axes[0])\n",
    "axes[0].set_title('Seasonal Subseries Plot')\n",
    "\n",
    "sns.boxplot(x=combined_df.index.month, y=combined_df['Aggregate'], ax=axes[1])\n",
    "axes[1].set_title('Box Plot of Values by Month')\n",
    "axes[1].set_xlabel('Month')\n",
    "axes[1].set_ylabel('Value')\n",
    "axes[1].set_xticklabels(['Jan', 'Feb', 'Mar', 'Apr', 'May', 'Jun', 'Jul', 'Aug', 'Sep', 'Oct', 'Nov', 'Dec'])\n",
    "\n",
    "plt.suptitle('Specialized Plots for Seasonality Detection (Regional Aggregate)', fontsize=16)\n",
    "plt.tight_layout(rect=[0, 0.03, 1, 0.95])\n",
    "plt.show()"
   ]
  },
  {
   "cell_type": "markdown",
   "metadata": {},
   "source": [
    "**Interpretation:**\n",
    "* **Subseries Plot**: Confirms that the seasonal pattern is relatively stable over the years, with certain months consistently higher or lower.\n",
    "* **Box Plot**: Clearly shows the distribution for each month. We can see that median values tend to be lower from January to March and higher in the last quarter. The outlier points visible in the box plots are likely from the 2020 structural break."
   ]
  },
  {
   "cell_type": "markdown",
   "metadata": {},
   "source": [
    "### 2.2: Classical Time Series Decomposition"
   ]
  },
  {
   "cell_type": "code",
   "execution_count": null,
   "metadata": {},
   "outputs": [],
   "source": [
    "decomposition = sm.tsa.seasonal_decompose(combined_df['Aggregate'], model='multiplicative', period=12)\n",
    "\n",
    "fig = decomposition.plot()\n",
    "fig.set_size_inches(14, 10)\n",
    "fig.suptitle('Multiplicative Decomposition of Regional Aggregate Series', fontsize=18)\n",
    "plt.tight_layout(rect=[0, 0.03, 1, 0.95])\n",
    "plt.show()"
   ]
  },
  {
   "cell_type": "markdown",
   "metadata": {},
   "source": [
    "**Interpretation:** The decomposition successfully separates the series into its four components:\n",
    "1.  **Observed**: The original data.\n",
    "2.  **Trend**: A smoothed version showing the long-term upward direction, including the dip around 2020. Note the start and end have gaps due to the nature of the moving average calculation.\n",
    "3.  **Seasonal**: The estimated, repeating annual pattern. The Y-axis shows the multiplicative factor (e.g., a value of 1.10 for a month means it's 10% above the trend).\n",
    "4.  **Resid (Remainder)**: What's left after removing the trend and seasonal components. A key finding here is the large downward spike in 2020. This indicates the decomposition model couldn't fully attribute the pandemic's sharp drop to the trend, so it \"leaked\" into the remainder component, reinforcing its status as an irregular, one-off event."
   ]
  },
  {
   "cell_type": "markdown",
   "metadata": {},
   "source": [
    "### 2.3: Modeling Seasonality with Regression"
   ]
  },
  {
   "cell_type": "code",
   "execution_count": null,
   "metadata": {},
   "outputs": [],
   "source": [
    "y = combined_df['Aggregate']\n",
    "X = pd.DataFrame(index=y.index)\n",
    "X = sm.add_constant(X)\n",
    "X['Time'] = np.arange(len(y))\n",
    "X['Month'] = X.index.month\n",
    "month_dummies = pd.get_dummies(X['Month'], prefix='Month', drop_first=True, dtype=int)\n",
    "X = X.join(month_dummies)\n",
    "X['Pandemic'] = 0\n",
    "X.loc['2020-03':'2021-12', 'Pandemic'] = 1\n",
    "X = X.drop('Month', axis=1)\n",
    "model = sm.OLS(y, X)\n",
    "results = model.fit()\n",
    "print(\"Regression Model Results for Regional Aggregate Series\")\n",
    "print(results.summary())"
   ]
  },
  {
   "cell_type": "markdown",
   "metadata": {},
   "source": [
    "**Interpretation of Regression Results:**\n",
    "\n",
    "* **R-squared**: The model explains a very high percentage of the variance in the data, indicating a good fit.\n",
    "* **const (Intercept)**: This represents the estimated baseline value for the reference month (December) at the beginning of the time series.\n",
    "* **Time**: The coefficient is positive and highly significant (p < 0.001). This confirms the presence of a positive underlying growth trend, averaging an increase of ~850 units per month after controlling for seasonality and the pandemic. This aligns with the findings in the source report.\n",
    "* **Month Dummies**: Most monthly dummies are negative and significant. For example, the `Month_2` (February) coefficient of ~-69,000 suggests that, on average, February's value is 69,000 units lower than December's, holding other factors constant. Months like July, October, and November have p-values > 0.05, meaning their values are not statistically different from December's, once trend and pandemic effects are accounted for.\n",
    "* **Pandemic**: The coefficient is large, negative, and highly significant. It suggests that during the defined pandemic period, the regional total was, on average, about 95,600 units lower than would otherwise be expected based on the trend and seasonal patterns alone."
   ]
  },
  {
   "cell_type": "markdown",
   "metadata": {},
   "source": [
    "### 2.4: Achieving Stationarity Through Differencing"
   ]
  },
  {
   "cell_type": "code",
   "execution_count": null,
   "metadata": {},
   "outputs": [],
   "source": [
    "def run_adf_test(series, description):\n",
    "    \"\"\"Runs the Augmented Dickey-Fuller test and prints the results.\"\"\"\n",
    "    print(f'--- ADF Test Results for: {description} ---')\n",
    "    adf_result = adfuller(series.dropna())\n",
    "    print(f'ADF Statistic: {adf_result[0]}')\n",
    "    print(f'p-value: {adf_result[1]}')\n",
    "    print('Conclusion: The series is likely NON-STATIONARY' if adf_result[1] > 0.05 else 'Conclusion: The series is likely STATIONARY')\n",
    "    print('---' * 10)\n",
    "\n",
    "y_original = combined_df['Aggregate']\n",
    "y_seasonal_diff = y_original.diff(12)\n",
    "y_full_diff = y_seasonal_diff.diff(1)\n",
    "\n",
    "run_adf_test(y_original, 'Original Aggregate Series')\n",
    "run_adf_test(y_seasonal_diff, 'Seasonally Differenced Series')\n",
    "run_adf_test(y_full_diff, 'First Difference of Seasonally Differenced Series')\n",
    "\n",
    "fig, axes = plt.subplots(3, 1, figsize=(14, 12))\n",
    "y_full_diff.plot(ax=axes[0], title='Fully Differenced (Stationary) Series')\n",
    "sm.graphics.tsa.plot_acf(y_full_diff.dropna(), ax=axes[1], lags=40)\n",
    "sm.graphics.tsa.plot_pacf(y_full_diff.dropna(), ax=axes[2], lags=40)\n",
    "plt.tight_layout()\n",
    "plt.show()"
   ]
  },
  {
   "cell_type": "markdown",
   "metadata": {},
   "source": [
    "**Interpretation:**\n",
    "* **ADF Tests**: The test results confirm the findings from the source report. The original and seasonally differenced series are non-stationary (p > 0.05), but after applying both a seasonal and a non-seasonal difference, the p-value is < 0.001, allowing us to conclude the series is stationary.\n",
    "* **ACF/PACF Plots**: For the final differenced series, the autocorrelation plots show that the significant spikes at seasonal lags and the slow decay associated with a trend are gone. The correlations drop to within the non-significant range (the blue shaded area) very quickly, which is characteristic of a stationary series. The data is now ready for advanced forecasting models like SARIMA."
   ]
  },
  {
   "cell_type": "markdown",
   "metadata": {},
   "source": [
    "## Part 3: ICB Specific Comparative Analysis"
   ]
  },
  {
   "cell_type": "markdown",
   "metadata": {},
   "source": [
    "A key finding from the source report is the heterogeneity of seasonal patterns across categories. A 'one-size-fits-all' approach is insufficient. This section performs a deep dive into each of the seven ICBs to explore these unique patterns."
   ]
  },
  {
   "cell_type": "markdown",
   "metadata": {},
   "source": [
    "### 3.1: Efficient Visualization for All ICBs"
   ]
  },
  {
   "cell_type": "code",
   "execution_count": null,
   "metadata": {},
   "outputs": [],
   "source": [
    "print(\"--- Generating Longitudinal and Year-on-Year Plots for Each ICB ---\")\n",
    "\n",
    "for icb in icb_columns:\n",
    "    fig, axes = plt.subplots(1, 2, figsize=(18, 5))\n",
    "    combined_df[icb].plot(ax=axes[0])\n",
    "    axes[0].set_title(f'{icb}: Longitudinal Plot (2015-2024)')\n",
    "    axes[0].set_ylabel('Value')\n",
    "    \n",
    "    df_yoy_icb = combined_df.copy()\n",
    "    df_yoy_icb['year'] = df_yoy_icb.index.year\n",
    "    df_yoy_icb['month'] = df_yoy_icb.index.month\n",
    "    yoy_pivot_icb = df_yoy_icb.pivot_table(values=icb, index='month', columns='year')\n",
    "    yoy_pivot_icb.plot(ax=axes[1], legend=None)\n",
    "    axes[1].set_title(f'{icb}: Year-on-Year Comparison')\n",
    "    axes[1].set_ylabel('Value')\n",
    "    axes[1].set_xticks(ticks=range(1, 13), labels=['J', 'F', 'M', 'A', 'M', 'J', 'J', 'A', 'S', 'O', 'N', 'D'])\n",
    "    \n",
    "    plt.tight_layout()\n",
    "    plt.show()\n",
    "    print(\"-\" * 80)"
   ]
  },
  {
   "cell_type": "markdown",
   "metadata": {},
   "source": [
    "### 3.2: Automated Deep Dive Analysis for All ICBs"
   ]
  },
  {
   "cell_type": "markdown",
   "metadata": {},
   "source": [
    "To perform a deep dive on all ICBs efficiently, we define a reusable function that runs both the decomposition and regression analysis for any given ICB."
   ]
  },
  {
   "cell_type": "code",
   "execution_count": null,
   "metadata": {},
   "outputs": [],
   "source": [
    "def run_deep_dive_analysis(df, category_name):\n",
    "    \"\"\"\n",
    "    Performs and displays a deep dive analysis (decomposition and regression)\n",
    "    for a specified time series category.\n",
    "    \"\"\"\n",
    "    print(f\"\\n{'='*25} Deep Dive Analysis for ICB: {category_name} {'='*25}\")\n",
    "    \n",
    "    print(f\"\\n--- 1. Multiplicative Decomposition for {category_name} ---\")\n",
    "    decomposition_icb = sm.tsa.seasonal_decompose(df[category_name], model='multiplicative', period=12)\n",
    "    fig_decomp = decomposition_icb.plot()\n",
    "    fig_decomp.set_size_inches(12, 8)\n",
    "    plt.suptitle(f'Decomposition for {category_name}', y=1.01)\n",
    "    plt.show()\n",
    "    \n",
    "    print(f\"\\n--- 2. Regression Model Results for {category_name} ---\")\n",
    "    y_icb = df[category_name]\n",
    "    X_icb = pd.DataFrame(index=y_icb.index)\n",
    "    X_icb = sm.add_constant(X_icb)\n",
    "    X_icb['Time'] = np.arange(len(y_icb))\n",
    "    X_icb['Month'] = X_icb.index.month\n",
    "    month_dummies_icb = pd.get_dummies(X_icb['Month'], prefix='Month', drop_first=True, dtype=int)\n",
    "    X_icb = X_icb.join(month_dummies_icb)\n",
    "    X_icb['Pandemic'] = 0\n",
    "    X_icb.loc['2020-03':'2021-12', 'Pandemic'] = 1\n",
    "    X_icb = X_icb.drop('Month', axis=1)\n",
    "    \n",
    "    model_icb = sm.OLS(y_icb, X_icb)\n",
    "    results_icb = model_icb.fit()\n",
    "    print(results_icb.summary())\n",
    "    print(\"=\" * 75 + \"\\n\")"
   ]
  },
  {
   "cell_type": "code",
   "execution_count": null,
   "metadata": {},
   "outputs": [],
   "source": [
    "for icb in icb_columns:\n",
    "    run_deep_dive_analysis(combined_df, icb)"
   ]
  },
  {
   "cell_type": "markdown",
   "metadata": {},
   "source": [
    "## Part 4: Synthesis and Conclusions"
   ]
  },
  {
   "cell_type": "markdown",
   "metadata": {},
   "source": [
    "This final section synthesizes the findings from the preceding analyses, drawing conclusions about the nature of the time series data at both a regional and local level."
   ]
  },
  {
   "cell_type": "markdown",
   "metadata": {},
   "source": [
    "### Key Findings\n",
    "\n",
    "1.  **Consistent Regional Pattern**: The NHS SW Region as a whole exhibits a strong, predictable seasonal pattern with a trough in the early months and a peak late in the year. This pattern is superimposed on a statistically significant positive long-term trend.\n",
    "\n",
    "2.  **Major Structural Break**: The 2020 COVID-19 pandemic represents a significant structural break, not a seasonal feature. Its impact was quantified by the regression model, showing a large, negative effect on activity levels that must be explicitly modeled to avoid analytical errors.\n",
    "\n",
    "3.  **Significant ICB Heterogeneity**: The deep dive analysis confirms that seasonal patterns are not uniform across all ICBs. For instance:\n",
    "    * Category **15N** shows a very strong peak in October and November.\n",
    "    * Category **11J** often peaks in the middle of the year (May, June, July), a pattern almost opposite to that of 15N.\n",
    "    * Category **11M** displays much greater volatility compared to others, suggesting a different underlying process.\n",
    "    This heterogeneity means that effective operational planning requires category-specific models rather than relying solely on the aggregate forecast.\n",
    "\n",
    "### Methodological Comparison\n",
    "\n",
    "* **Classical Decomposition**: Best for initial exploratory analysis and generating an intuitive, visual separation of the time series components. Its primary output, the seasonally adjusted series, is ideal for high-level reporting.\n",
    "* **Regression with Dummy Variables**: Best for formal statistical inference. It provides quantifiable estimates (coefficients) and statistical significance (p-values) for seasonality, trend, and interventions, which are invaluable for budgeting and performance evaluation.\n",
    "* **Differencing and Stationarity Testing**: Primarily a data preparation technique. Achieving stationarity is a mandatory prerequisite for building advanced stochastic forecasting models like SARIMA.\n",
    "\n",
    "### Concluding Remarks\n",
    "\n",
    "This notebook has successfully replicated and expanded upon the analysis from the source report. We have characterized the time series data for the NHS SW Region and its ICBs, identified key patterns and events, and prepared the data for predictive modeling.\n",
    "\n",
    "The analysis confirms the importance of a dual approach: understanding the macro-level regional trends while also modeling the unique, heterogeneous behavior of each individual ICB for effective operational planning. The stationary data series generated in this notebook are now ready for the development of sophisticated forecasting models."
   ]
  }
 ],
 "metadata": {
  "kernelspec": {
   "display_name": "Python 3 (ipykernel)",
   "language": "python",
   "name": "python3"
  },
  "language_info": {
   "codemirror_mode": {
    "name": "ipython",
    "version": 3
   },
   "file_extension": ".py",
   "mimetype": "text/x-python",
   "name": "python",
   "nbconvert_exporter": "python",
   "pygments_lexer": "ipython3",
   "version": "3.10.18"
  }
 },
 "nbformat": 4,
 "nbformat_minor": 4
}
