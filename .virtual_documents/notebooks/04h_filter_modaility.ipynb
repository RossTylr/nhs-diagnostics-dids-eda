


# ---------------------------------------------------
# 0 – Imports & Raw-Folder Ingestion
# ---------------------------------------------------

import pandas as pd
import numpy as np
import seaborn as sns
import matplotlib.pyplot as plt
import os
import glob
import re
from IPython.display import display

pd.set_option('display.max_columns', None)
pd.set_option('display.max_rows', 200)

# --------------------------------------------------------------------------
# ==> IMPORTANT: Point this to the directory containing your CSV files <==
# --------------------------------------------------------------------------
# The path below is a placeholder from your script.
# You MUST update it to the correct location on your computer.
raw_dir   = "/Users/rosstaylor/Downloads/Research Project/Code Folder/nhs-diagnostics-dids-eda/nhs-dids-explorer/data/raw/2024 NHS SW ICBs"

# If you don't want to use a folder, you can hard-code the list of file paths:
# csv_files = ["path/to/your/file1.csv", "path/to/your/file2.csv"]

try:
    csv_files = glob.glob(os.path.join(raw_dir, "*.csv"))
    if not csv_files:
        raise FileNotFoundError("csv_files list is empty – check the 'raw_dir' path.")
except FileNotFoundError as e:
    print(e)
    # As a fallback for demonstration, create a dummy dataframe
    print("Creating a sample DataFrame for demonstration purposes.")
    df = pd.DataFrame({
        'age': np.random.randint(0, 100, 5000),
        'modality': np.random.choice([
            'Computerized axial tomography (procedure)', 'Magnetic resonance imaging (procedure)', 'Endoscopy (procedure)',
            'Plain radiography (procedure)', 'Diagnostic ultrasonography (procedure)', 'Fluoroscopy (procedure)'
        ], size=5000),
        'patient_source': np.random.choice(['accident & emergency department', 'gp direct access service', 'inpatient', 'outpatient', 'elective admission'], size=5000)
    })
else:
    print(f"Detected {len(csv_files)} files to load.")

    # ----------- Canonical 23-column schema from the SQL query ---------------
    expected_cols = [
        'icb_code','icb_name','lsoa_code','nhs_region',
        'site_code','site_name','provider_code','provider_name',
        'activity_month','financial_year','financial_month','test_date',
        'age','sex','modality','sub_modality','procedure_name',
        'referral_type','patient_source','cancer_flag','subcancer_flag',
        'referring_org_code','referring_org_name'
    ]

    dfs, meta = [], []
    for fp in csv_files:
        try:
            peek = pd.read_csv(fp, nrows=5)
            if not set(expected_cols).issubset(peek.columns):
                print(f"'{os.path.basename(fp)}' – no header found, reloading with specified names.")
                df_tmp = pd.read_csv(fp, header=None, names=expected_cols, low_memory=False)
            else:
                df_tmp = pd.read_csv(fp, low_memory=False)

            df_tmp = df_tmp.dropna(axis=1, how='all')
            df_tmp.columns = df_tmp.columns.str.strip().str.lower()
            
            # Align to expected schema
            df_tmp = df_tmp[[c for c in expected_cols if c in df_tmp.columns]]
            for col in (set(expected_cols) - set(df_tmp.columns)):
                df_tmp[col] = pd.NA
            df_tmp = df_tmp[expected_cols]
            dfs.append(df_tmp)

            meta.append({
                "file": os.path.basename(fp),
                "rows": len(df_tmp),
                "cols": df_tmp.shape[1],
                "MB": round(df_tmp.memory_usage(deep=True).sum()/1e6, 2)
            })
        except Exception as e:
            print(f"Error loading file {os.path.basename(fp)}: {e}")


    meta_df = pd.DataFrame(meta)
    display(meta_df.style.set_caption("Loaded files – rows / cols / size"))

    if dfs:
        df = pd.concat(dfs, ignore_index=True)
        print(f"\nCombined shape: {df.shape}")
    else:
        print("\nNo dataframes were loaded. Halting script.")
        # Create a dummy df to prevent further errors
        df = pd.DataFrame(columns=expected_cols)


# 1 – Schema checks & quick profile
print("Initial dataframe shape:", df.shape)
print("\nColumn summary:")
print(df.dtypes.value_counts())

# confirm the critical columns exist
must_have = ["age", "modality", "patient_source"]
missing   = [c for c in must_have if c not in df.columns]
if missing:
    raise KeyError(f"Missing expected column(s): {missing}")

# peek at the first five rows
display(df.head())



# 2 – Apply ONS-style age bands (matching predefined 'bands' structure)
import numpy as np

# Define cut points and labels
age_bins = [0,5,10,15,20,25,30,35,40,45,50,55,60,65,70,75,80,85,np.inf]
age_labels = [
    "0-4","5-9","10-14","15-19","20-24","25-29","30-34","35-39",
    "40-44","45-49","50-54","55-59","60-64","65-69","70-74",
    "75-79","80-84","85+"
]

# Ensure age is clean
df["age"] = df["age"].astype("Int64")

# Apply banding
df["age_band"] = pd.cut(df["age"], bins=age_bins, labels=age_labels, right=True)

# Confirm result
print("\nAfter applying ONS-style age bands:")
print(df[["age", "age_band"]].head())



# 3 – Modality mapping
MODALITY_PATTERNS = {
    "computerized axial tomography": "CT",
    "magnetic resonance imaging":    "MRI",
    "endoscopy":                     "Endoscopy",
}

def map_mod(text):
    text = str(text).lower()
    for pat, short in MODALITY_PATTERNS.items():
        if pat in text:
            return short
    return np.nan            # mark other modalities as NaN

df["modality_clean"] = df["modality"].apply(map_mod)

print("\nModality distribution:")
display(df["modality_clean"].value_counts(dropna=False))



# 4 – Patient-source bucket
PAT_SRC_PATTERNS = {
    r"acc?ident.*emerg|^emergency.*|999|ambulance": "Emergency/A&E",
    r"gp .*access|gp direct|elective|outpatient":   "Elective/GP",
    r"inpatient":                                   "Inpatient"
}

def bucket_ps(text):
    text = str(text).lower()
    for pat, lab in PAT_SRC_PATTERNS.items():
        if re.search(pat, text):
            return lab
    return "Other"

df["ps_bucket"] = df["patient_source"].apply(bucket_ps)

print("\nCross-tab – modality_clean × ps_bucket")
display(pd.crosstab(df["modality_clean"], df["ps_bucket"]))



# 5 – Boolean flags
df["cancer_flag"] = df["cancer_flag"].fillna(False).astype(bool)
df["is_ct"]       = (df["modality_clean"] == "CT")
df["is_mri"]      = (df["modality_clean"] == "MRI")
df["is_endo"]     = (df["modality_clean"] == "Endoscopy")

print("\nHead with new flags:")
display(df[["modality_clean", "cancer_flag", "ps_bucket"]].head())



# 6 – Split by modality
ct_df   = df[df["is_ct"]].copy()
mri_df  = df[df["is_mri"]].copy()
endo_df = df[df["is_endo"]].copy()

for name, d in [("CT", ct_df), ("MRI", mri_df), ("Endoscopy", endo_df)]:
    print(f"{name:9s}  rows: {d.shape[0]:,}")
    display(d.head(3))



# 7 – Persist to disk (CSV version, saving to processed/)
SAVE_FILES = True
if SAVE_FILES:
    out_dir = "/Users/rosstaylor/Downloads/Research Project/Code Folder/nhs-diagnostics-dids-eda/nhs-dids-explorer/data/processed"
    os.makedirs(out_dir, exist_ok=True)
    
    ct_df.to_csv(os.path.join(out_dir, "ct_master.csv"), index=False)
    mri_df.to_csv(os.path.join(out_dir, "mri_master.csv"), index=False)
    endo_df.to_csv(os.path.join(out_dir, "endo_master.csv"), index=False)
    
    print("CSV files saved in:", out_dir)

