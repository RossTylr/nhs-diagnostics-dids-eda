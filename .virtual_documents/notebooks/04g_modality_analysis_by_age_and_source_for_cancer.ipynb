


# ---------------------------------------------------
# 0 – Imports & Raw-Folder Ingestion
# ---------------------------------------------------

import pandas as pd
import numpy as np
import seaborn as sns
import matplotlib.pyplot as plt
import os
import glob
import re
from IPython.display import display

pd.set_option('display.max_columns', None)
pd.set_option('display.max_rows', 200)


raw_dir   = "/Users/rosstaylor/Downloads/Research Project/Code Folder/nhs-diagnostics-dids-eda/nhs-dids-explorer/data/raw/2024 NHS SW ICBs"

try:
    csv_files = glob.glob(os.path.join(raw_dir, "*.csv"))
    if not csv_files:
        raise FileNotFoundError("csv_files list is empty – check the 'raw_dir' path.")
except FileNotFoundError as e:
    print(e)
    # As a fallback for demonstration, create a dummy dataframe
    print("Creating a sample DataFrame for demonstration purposes.")
    df = pd.DataFrame({
        'age': np.random.randint(0, 100, 5000),
        'modality': np.random.choice([
            'Computerized axial tomography (procedure)', 'Magnetic resonance imaging (procedure)', 'Endoscopy (procedure)',
            'Plain radiography (procedure)', 'Diagnostic ultrasonography (procedure)', 'Fluoroscopy (procedure)'
        ], size=5000),
        'patient_source': np.random.choice(['accident & emergency department', 'gp direct access service', 'inpatient', 'outpatient', 'elective admission'], size=5000),
        'cancer_flag': np.random.choice([True, False], size=5000, p=[0.1, 0.9]) # Add cancer_flag for demo
    })
else:
    print(f"Detected {len(csv_files)} files to load.")
    expected_cols = [
        'icb_code','icb_name','lsoa_code','nhs_region', 'site_code','site_name','provider_code','provider_name',
        'activity_month','financial_year','financial_month','test_date', 'age','sex','modality','sub_modality','procedure_name',
        'referral_type','patient_source','cancer_flag','subcancer_flag', 'referring_org_code','referring_org_name'
    ]
    dfs, meta = [], []
    for fp in csv_files:
        try:
            peek = pd.read_csv(fp, nrows=5)
            if not set(expected_cols).issubset(peek.columns):
                df_tmp = pd.read_csv(fp, header=None, names=expected_cols, low_memory=False)
            else:
                df_tmp = pd.read_csv(fp, low_memory=False)
            df_tmp = df_tmp.dropna(axis=1, how='all')
            df_tmp.columns = df_tmp.columns.str.strip().str.lower()
            df_tmp = df_tmp[[c for c in expected_cols if c in df_tmp.columns]]
            for col in (set(expected_cols) - set(df_tmp.columns)):
                df_tmp[col] = pd.NA
            df_tmp = df_tmp[expected_cols]
            dfs.append(df_tmp)
            meta.append({
                "file": os.path.basename(fp), "rows": len(df_tmp),
                "cols": df_tmp.shape[1], "MB": round(df_tmp.memory_usage(deep=True).sum()/1e6, 2)
            })
        except Exception as e:
            print(f"Error loading file {os.path.basename(fp)}: {e}")
    meta_df = pd.DataFrame(meta)
    display(meta_df.style.set_caption("Loaded files – rows / cols / size"))
    if dfs:
        df = pd.concat(dfs, ignore_index=True)
        print(f"\nCombined shape: {df.shape}")
    else:
        df = pd.DataFrame(columns=expected_cols)


# -----------------------------------------------------------------
# ==> DIAGNOSTIC STEP: Explore Cancer & Sub-Cancer Flag columns <==
# -----------------------------------------------------------------

if 'df' in locals() and not df.empty:
    print("--- Exploring 'cancer_flag' ---")
    print("Data Type:", df['cancer_flag'].dtype)
    print("\nValue Counts (including missing values):")
    display(df['cancer_flag'].value_counts(dropna=False))

    print("\n\n--- Exploring 'subcancer_flag' ---")
    print("Data Type:", df['subcancer_flag'].dtype)
    print("\nValue Counts (including missing values):")
    display(df['subcancer_flag'].value_counts(dropna=False))

    print("\n\n--- Crosstab: cancer_flag vs. subcancer_flag ---")
    # This shows how the two flags relate to each other
    try:
        crosstab_df = pd.crosstab(df['cancer_flag'], df['subcancer_flag'], dropna=False)
        display(crosstab_df)
    except Exception as e:
        print(f"Could not create crosstab, likely due to data type issues: {e}")


    print("\n\n--- Sample rows where 'cancer_flag' is not null/false ---")
    # This helps us see what the actual text/values look like
    try:
        # Create a boolean mask that handles different "false" values
        is_not_false = ~df['cancer_flag'].astype(str).str.lower().isin(['false', '0', 'nan', ''])
        sample_cancer_rows = df[df['cancer_flag'].notna() & is_not_false].head(10)
        display(sample_cancer_rows[['cancer_flag', 'subcancer_flag', 'modality', 'procedure_name']])
    except Exception as e:
        print(f"Could not display sample rows: {e}")

else:
    print("DataFrame 'df' not found or is empty.")





# --- Basic type coercion and cleaning ---
df["age"] = pd.to_numeric(df["age"], errors="coerce")
df["patient_source"] = (
    df["patient_source"]
      .astype(str).str.strip().str.lower()
      .str.replace(r"\(this health care provider\)", "", regex=True)
      .replace({"nan": np.nan}).fillna("unknown")
)

# --- Create 'ps_bucket' (Patient Source Bucket) ---
ps_bucket_map = {
    r"accident|emergency|aed|a&e": "Emergency", r"gp direct|gp ": "GP",
    r"inpatient": "Inpatient", r"outpatient": "Outpatient", r"elective|planned": "Elective",
}
def ps_bucket(txt: str) -> str:
    for pat, lab in ps_bucket_map.items():
        if re.search(pat, txt, re.IGNORECASE): return lab
    return "Other/Unknown"
df["ps_bucket"] = df["patient_source"].apply(ps_bucket)

# --- Create 'modality_bucket' ---
modality_bucket_map = {
    r"tomography|ct": "CT", r"magnetic resonance|mri": "MRI", r"endoscopy": "Endoscopy",
    r"radiography": "Radiography", r"ultrasonography|ultrasound": "Ultrasound", r"fluoroscopy": "Fluoroscopy"
}
def modality_bucket(txt: str) -> str:
    txt = str(txt).lower()
    for pat, lab in modality_bucket_map.items():
        if re.search(pat, txt): return lab
    return "Other"
df["modality_bucket"] = df["modality"].apply(modality_bucket)


# =====================================================================
#  ==> CORRECTED LOGIC: Standardize 'cancer_flag' into 'cancer_status' <==
# =====================================================================
# If 'cancer_flag' has any text in it, it's a cancer pathway.
# If it's empty (NaN), it's a non-cancer pathway.
df['cancer_status'] = np.where(df['cancer_flag'].notna(), 'Cancer Pathway', 'Non-Cancer Pathway')

print("\nCancer Status Distribution:")
print(df['cancer_status'].value_counts(dropna=False))


# --- Create 'age_band' ---
bands = pd.DataFrame({
    "lower":[0,5,10,15,20,25,30,35,40,45,50,55,60,65,70,75,80,85],
    "upper":[4,9,14,19,24,29,34,39,44,49,54,59,64,69,74,79,84,np.inf],
    "label":["0-4","5-9","10-14","15-19","20-24","25-29","30-34","35-39",
             "40-44","45-49","50-54","55-59","60-64","65-69","70-74", "75-79","80-84","85+"]
})
df.dropna(subset=['age'], inplace=True)
df = df[df["age"] % 1 == 0]
df["age"] = df["age"].astype(int)
df["age_band"] = pd.cut(df["age"], bins=(bands["lower"].tolist() + [np.inf]), labels=bands["label"], right=False)

# --- Create combined 'em'/'el' source ---
def assign_em_el_source(ps_bucket):
    if ps_bucket in ['Emergency', 'Inpatient']: return 'em (Emergency/Inpatient)'
    elif ps_bucket in ['GP', 'Outpatient', 'Elective']: return 'el (Elective/GP)'
    else: return 'Other/Unknown'
df['patient_source_combined'] = df['ps_bucket'].apply(assign_em_el_source)

print("\nFinal DataFrame Head:")
display(df[['age_band', 'ps_bucket', 'patient_source_combined', 'modality_bucket', 'cancer_flag', 'cancer_status']].head())


def plot_usage_by_cancer_status(df, modality_bucket_name):
    """
    Generates side-by-side plots comparing Cancer vs. Non-Cancer pathways
    for a given modality bucket.
    """
    if df.empty or modality_bucket_name not in df['modality_bucket'].unique():
        print(f"No data for modality bucket '{modality_bucket_name}'. Skipping.")
        return

    print(f"--- Generating Comparison Plots for {modality_bucket_name} ---")

    # Filter data for the modality
    modality_df = df[df['modality_bucket'] == modality_bucket_name].copy()

    # Create a 3x2 grid of subplots for the side-by-side comparison
    fig, axes = plt.subplots(3, 2, figsize=(18, 24), sharex=True)
    fig.suptitle(f'{modality_bucket_name} Usage by Age: Cancer Pathway vs. Non-Cancer Pathway', fontsize=20, y=1.02)
    
    status_types = ['Cancer Pathway', 'Non-Cancer Pathway']
    plot_titles = [
        'Split by Patient Source',
        'All Sources Combined',
        'Combined Emergency vs. Elective'
    ]

    for i, status in enumerate(status_types):
        # Filter data for Cancer or Non-Cancer
        status_df = modality_df[modality_df['cancer_status'] == status]
        
        # --- Plot 1: Individual Patient Sources ---
        ax = axes[0, i]
        sns.lineplot(
            data=status_df, x='age_band', y=status_df.index, hue='ps_bucket',
            estimator='count', marker='o', errorbar=None, ax=ax
        )
        ax.set_title(f'{status}\n({plot_titles[0]})')
        ax.set_ylabel('Number of Procedures')
        ax.tick_params(axis='x', rotation=45)
        
        # --- Plot 2: All Sources Combined ---
        ax = axes[1, i]
        agg_all = status_df.groupby('age_band', as_index=False, observed=True).size()
        sns.lineplot(data=agg_all, x='age_band', y='size', marker='o', ax=ax)
        ax.set_title(f'{status}\n({plot_titles[1]})')
        ax.set_ylabel('Number of Procedures')
        ax.tick_params(axis='x', rotation=45)

        # --- Plot 3: Combined Emergency/Elective ---
        ax = axes[2, i]
        sns.lineplot(
            data=status_df, x='age_band', y=status_df.index, hue='patient_source_combined',
            estimator='count', marker='o', errorbar=None, ax=ax
        )
        ax.set_title(f'{status}\n({plot_titles[2]})')
        ax.set_ylabel('Number of Procedures')
        ax.set_xlabel('Age Band')
        ax.tick_params(axis='x', rotation=45)

    plt.tight_layout(rect=[0, 0, 1, 0.98])
    plt.show()


if 'df' in locals() and not df.empty:
    # Specify the main modality buckets you are interested in
    modality_buckets_to_plot = ['CT', 'MRI', 'Endoscopy']
    
    available_buckets = df['modality_bucket'].unique()
    
    for bucket in modality_buckets_to_plot:
        if bucket in available_buckets:
            plot_usage_by_cancer_status(df, bucket)
        else:
            print(f"Modality bucket '{bucket}' not found in the dataset.")
else:
    print("DataFrame 'df' is not available or is empty. Cannot generate plots.")


# =========================================================================
#  ==> NEW FUNCTION: Plots with Synchronized Y-Axes for Comparison <==
# =========================================================================

def plot_usage_by_cancer_status_synced(df, modality_bucket_name):
    """
    Generates side-by-side plots comparing Cancer vs. Non-Cancer pathways
    for a given modality bucket, ensuring the y-axes of each pair of plots
    are synchronized for fair comparison.
    """
    if df.empty or modality_bucket_name not in df['modality_bucket'].unique():
        print(f"No data for modality bucket '{modality_bucket_name}'. Skipping.")
        return

    print(f"--- Generating SYNCED Comparison Plots for {modality_bucket_name} ---")

    modality_df = df[df['modality_bucket'] == modality_bucket_name].copy()
    fig, axes = plt.subplots(3, 2, figsize=(18, 24), sharex=True)
    fig.suptitle(f'{modality_bucket_name} Usage (Synced Axes): Cancer vs. Non-Cancer Pathway', fontsize=20, y=1.02)
    
    status_types = ['Cancer Pathway', 'Non-Cancer Pathway']
    
    # --- Plot Row 1: Individual Patient Sources ---
    for i, status in enumerate(status_types):
        ax = axes[0, i]
        status_df = modality_df[modality_df['cancer_status'] == status]
        sns.lineplot(
            data=status_df, x='age_band', y=status_df.index, hue='ps_bucket',
            estimator='count', marker='o', errorbar=None, ax=ax
        )
        ax.set_title(f'{status}\n(Split by Patient Source)')
        ax.set_ylabel('Number of Procedures')
        if ax.get_legend(): ax.get_legend().set_title('Patient Source')
    # Sync Y-axes for Row 1
    max_y1 = max(axes[0, 0].get_ylim()[1], axes[0, 1].get_ylim()[1])
    axes[0, 0].set_ylim(0, max_y1 * 1.05)
    axes[0, 1].set_ylim(0, max_y1 * 1.05)

    # --- Plot Row 2: All Sources Combined ---
    for i, status in enumerate(status_types):
        ax = axes[1, i]
        status_df = modality_df[modality_df['cancer_status'] == status]
        agg_all = status_df.groupby('age_band', as_index=False, observed=True).size()
        sns.lineplot(data=agg_all, x='age_band', y='size', marker='o', ax=ax)
        ax.set_title(f'{status}\n(All Sources Combined)')
        ax.set_ylabel('Number of Procedures')
    # Sync Y-axes for Row 2
    max_y2 = max(axes[1, 0].get_ylim()[1], axes[1, 1].get_ylim()[1])
    axes[1, 0].set_ylim(0, max_y2 * 1.05)
    axes[1, 1].set_ylim(0, max_y2 * 1.05)
    
    # --- Plot Row 3: Combined Emergency/Elective ---
    for i, status in enumerate(status_types):
        ax = axes[2, i]
        status_df = modality_df[modality_df['cancer_status'] == status]
        sns.lineplot(
            data=status_df, x='age_band', y=status_df.index, hue='patient_source_combined',
            estimator='count', marker='o', errorbar=None, ax=ax
        )
        ax.set_title(f'{status}\n(Combined Emergency vs. Elective)')
        ax.set_ylabel('Number of Procedures')
        ax.set_xlabel('Age Band')
        if ax.get_legend(): ax.get_legend().set_title('Combined Source')
    # Sync Y-axes for Row 3
    max_y3 = max(axes[2, 0].get_ylim()[1], axes[2, 1].get_ylim()[1])
    axes[2, 0].set_ylim(0, max_y3 * 1.05)
    axes[2, 1].set_ylim(0, max_y3 * 1.05)

    # Final layout adjustments
    for ax_row in axes:
        for ax in ax_row:
            ax.tick_params(axis='x', rotation=45)

    plt.tight_layout(rect=[0, 0, 1, 0.98])
    plt.show()


# --- Run the new function for synced plots ---
if 'df' in locals() and not df.empty:
    modality_buckets_to_plot = ['CT', 'MRI', 'Endoscopy']
    available_buckets = df['modality_bucket'].unique()
    
    for bucket in modality_buckets_to_plot:
        if bucket in available_buckets:
            plot_usage_by_cancer_status_synced(df, bucket)
        else:
            print(f"Modality bucket '{bucket}' not found in the dataset.")
else:
    print("DataFrame 'df' is not available or is empty. Cannot generate plots.")


# =========================================================================
#  ==> FINAL STEP (ADJUSTED): Create Pivoted Summary Table for Report <==
# =========================================================================

if 'df' in locals() and not df.empty:
    print("--- Generating Pivoted Summary Statistics Table ---")
    
    # Define the core modalities of interest
    modalities_of_interest = ['CT', 'MRI', 'Endoscopy']
    
    # Filter the DataFrame to only include the core modalities for the summary
    summary_df = df[df['modality_bucket'].isin(modalities_of_interest)].copy()

    # Create the pivot table with the desired structure
    # Index: Age Bands
    # Columns: Modality, then split by Cancer Status
    # Values: Count of procedures
    pivoted_table = pd.pivot_table(
        summary_df,
        index='age_band',
        columns=['modality_bucket', 'cancer_status'],
        aggfunc='size',  # 'size' is an efficient way to count rows
        fill_value=0     # Replace any missing combinations with 0
    )

    # Reorder the columns to ensure a logical layout if needed (CT, MRI, Endoscopy)
    # The order is defined by the 'modalities_of_interest' list
    pivoted_table = pivoted_table.reindex(columns=modalities_of_interest, level=0)
    
    # Add a 'Total' column for each modality
    for mod in modalities_of_interest:
        if mod in pivoted_table.columns.get_level_values(0):
             pivoted_table[(mod, 'Total')] = pivoted_table[mod].sum(axis=1)

    # Sort the column levels for a clean final presentation
    pivoted_table.sort_index(axis=1, inplace=True)


    # Display the final pivoted table
    display(pivoted_table.style.set_caption("Procedure Count by Age Band, Modality, and Cancer Status").format('{:,.0f}'))

else:
    print("DataFrame 'df' not found or is empty. Cannot generate summary table.")

# Define export path
export_path_counts = "/Users/rosstaylor/Downloads/Research Project/Code Folder/nhs-diagnostics-dids-eda/nhs-dids-explorer/data/processed/modality_procedure_counts_by_age_band_2024.csv"

# Flatten MultiIndex for clean CSV export
pivoted_flat = pivoted_table.copy()
pivoted_flat.columns = [f"{modality}_{status}" for modality, status in pivoted_flat.columns]
pivoted_flat.reset_index(inplace=True)

# Export to CSV
pivoted_flat.to_csv(export_path_counts, index=False)

print("Procedure count table exported to:")
print(export_path_counts)



# =========================================================================
#  ==> FIXED: Pivoted Table + Demand per 1000 People <==
# =========================================================================

# --- Step 1: Build the pivot table ---
modalities_of_interest = ['CT', 'MRI', 'Endoscopy']
summary_df = df[df['modality_bucket'].isin(modalities_of_interest)].copy()

pivoted = pd.pivot_table(
    summary_df,
    index='age_band',
    columns=['modality_bucket', 'cancer_status'],
    aggfunc='size',
    fill_value=0,
    observed=False  # Suppress future warning
)

# --- Step 2: Add 'Total' column for each modality ---
for mod in modalities_of_interest:
    if mod in pivoted.columns.get_level_values(0):
        pivoted[(mod, 'Total')] = pivoted[mod].sum(axis=1)

# --- Step 3: Flatten the MultiIndex columns ---
pivoted.columns = [f"{mod}_{status}" for mod, status in pivoted.columns]
pivoted_reset = pivoted.reset_index()

# --- Step 4: Merge with population table ---
age_band_population = pd.DataFrame({
    "age_band": [
        "0-4", "5-9", "10-14", "15-19", "20-24", "25-29", "30-34", "35-39",
        "40-44", "45-49", "50-54", "55-59", "60-64", "65-69", "70-74",
        "75-79", "80-84", "85+"
    ],
    "population_2024": [
        283792, 322018, 331416, 324765, 342425, 342688, 367510, 355513,
        341210, 362553, 413048, 423510, 376552, 337298, 357074,
        266939, 181501, 183436
    ]
})

df_pop = pivoted_reset.merge(age_band_population, on='age_band')

# --- Step 5: Calculate per-1000 rates ---
rate_cols = [col for col in df_pop.columns if col not in ['age_band', 'population_2024']]
for col in rate_cols:
    df_pop[f"{col}_per_1000"] = (df_pop[col] / df_pop['population_2024']) * 1000

# --- Step 6: Extract final rate table ---
rate_table = df_pop[['age_band'] + [col for col in df_pop.columns if col.endswith('_per_1000')]]
rate_table = rate_table.set_index('age_band').round(2)

# --- Step 7: Display ---
display(rate_table.style.set_caption("Demand per 1,000 People by Age Band, Modality, and Cancer Status"))



# Define export path
export_path = "/Users/rosstaylor/Downloads/Research Project/Code Folder/nhs-diagnostics-dids-eda/nhs-dids-explorer/data/processed/modality_demand_rates_per_1000_by_age_band_2024.csv"

# Export to CSV
rate_table.to_csv(export_path)

print("Data exported to:")
print(export_path)




