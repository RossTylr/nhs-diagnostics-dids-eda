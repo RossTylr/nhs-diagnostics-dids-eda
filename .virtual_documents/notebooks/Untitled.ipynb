


!pip install pygam


# Data Handling
import pandas as pd
import numpy as np

# Visualization
import matplotlib.pyplot as plt
import seaborn as sns

# Modeling - GLM, GAM, RF
import statsmodels.api as sm
import statsmodels.formula.api as smf
from sklearn.linear_model import LinearRegression
from sklearn.ensemble import RandomForestRegressor

from pygam import LinearGAM, s, f  # For Generalized Additive Models

# Model Evaluation
from sklearn.model_selection import train_test_split
from sklearn.metrics import mean_absolute_error, mean_squared_error, r2_score

# Warnings
import warnings
warnings.filterwarnings("ignore")

# Optional - for hierarchical modeling if extended
# import pymc3 as pm  # Uncomment if you plan to use Bayesian hierarchical models

