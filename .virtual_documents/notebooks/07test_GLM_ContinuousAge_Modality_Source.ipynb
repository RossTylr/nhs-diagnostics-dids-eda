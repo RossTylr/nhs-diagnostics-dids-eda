


# ---------------------------------------------------------
# 0 · Load processed CSVs
# ---------------------------------------------------------
import pandas as pd
import numpy as np
import statsmodels.formula.api as smf
import statsmodels.api as sm
import os
from IPython.display import display
import matplotlib.pyplot as plt
import seaborn as sns
import statsmodels.api as sm
import statsmodels.formula.api as smf


base_path = "/Users/rosstaylor/Downloads/Research Project/Code Folder/nhs-diagnostics-dids-eda/nhs-dids-explorer/data/processed"

ct   = pd.read_csv(os.path.join(base_path, "ct_master.csv"))
mri  = pd.read_csv(os.path.join(base_path, "mri_master.csv"))
endo = pd.read_csv(os.path.join(base_path, "endo_master.csv"))

# Add modality labels
ct["modality"]   = "CT"
mri["modality"]  = "MRI"
endo["modality"] = "Endoscopy"

# Concatenate
df = pd.concat([ct, mri, endo], ignore_index=True)
print("Combined shape:", df.shape)
display(df.head())


# ---------------------------------------------------------
# 0 · Cap age at 90 to remove noise in 90+ range
# ---------------------------------------------------------
df = df[df["age"] <= 90]

# ---------------------------------------------------------
# 1 · Group by continuous age × modality × source × cancer
# ---------------------------------------------------------
grouped = (
    df.groupby(["modality", "age", "cancer_flag", "patient_source"])
      .size()
      .reset_index(name="count")
)
print("Grouped shape:", grouped.shape)
display(grouped.head())

# ---------------------------------------------------------
# 2 · Convert predictors to categorical
# ---------------------------------------------------------
df_model = grouped.copy()
for col in ["modality", "patient_source"]:
    df_model[col] = df_model[col].astype("category")
df_model["cancer_flag"] = df_model["cancer_flag"].astype(int)



# ---------------------------------------------------------
# 3 · Fit Poisson GLM with continuous age (capped at 90)
# ---------------------------------------------------------
# Re-cap age for safety
df_model = df_model[df_model["age"] <= 90]

import statsmodels.formula.api as smf
import statsmodels.api as sm

formula = "count ~ age + modality + cancer_flag + patient_source"
model_poiss = smf.glm(
    formula=formula,
    data=df_model,
    family=sm.families.Poisson()
).fit()

print(model_poiss.summary())

# --- Predict on original data ---
df_model["predicted"] = model_poiss.predict(df_model)


# ---------------------------------------------------------
# 4 · Plot: Overall Observed vs Predicted Counts by Age
# ---------------------------------------------------------
plt.figure(figsize=(14, 6))

sns.lineplot(
    data=df_model,
    x="age",
    y="count",
    hue="modality",
    style="patient_source",
    linewidth=2,
    alpha=0.6,
    legend="brief"
)

sns.lineplot(
    data=df_model,
    x="age",
    y="predicted",
    hue="modality",
    style="patient_source",
    linewidth=2,
    linestyle="--",
    dashes=True,
    legend=False  # Avoid double legend
)

plt.title("Observed vs Predicted Imaging Counts by Age (All Modalities)")
plt.xlabel("Age (continuous)")
plt.ylabel("Count")
plt.grid(True)
plt.tight_layout()
plt.show()


# ---------------------------------------------------------
# 5 · Plot: One Figure per Modality
# ---------------------------------------------------------
modalities = ['CT', 'MRI', 'Endoscopy']

for modality in modalities:
    plt.figure(figsize=(14, 6))

    df_subset = df_model[df_model['modality'] == modality]

    sns.lineplot(
        data=df_subset,
        x="age",
        y="count",
        hue="patient_source",
        linewidth=2,
        alpha=0.6,
        style="patient_source"
    )

    sns.lineplot(
        data=df_subset,
        x="age",
        y="predicted",
        hue="patient_source",
        linewidth=2,
        linestyle="--",
        dashes=True,
        legend=False,
        style="patient_source"
    )

    plt.title(f"Observed vs Predicted Counts by Age – {modality}")
    plt.xlabel("Age (continuous)")
    plt.ylabel("Count")
    plt.grid(True)
    plt.tight_layout()
    plt.show()


















